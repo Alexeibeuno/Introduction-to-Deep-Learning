{
 "cells": [
  {
   "cell_type": "code",
   "execution_count": 2,
   "id": "1fd4c550",
   "metadata": {},
   "outputs": [],
   "source": [
    "import tensorflow as tf\n",
    "# RNN from scratch\n",
    "class MyRNNCell(tf.keras.layers.Layer):\n",
    "    def __init__(self, run_units, input_dim, output_dim):\n",
    "        super(MyRNNCell, self).__init__()\n",
    "        \n",
    "        #initialize weight matrices\n",
    "        self.W_xh = self.add_weight([rnn_units, input_dim])\n",
    "        self.W_hh = self.add_weight([rnn_units, rnn_units])\n",
    "        self.W_hy = self.add_weight([output_dim, rnn_units])\n",
    "        \n",
    "        #initialize hidden state to zeroes\n",
    "        self.h = tf.zeroes([rnn_units, 1])\n",
    "        \n",
    "    def call(self, x):\n",
    "        #update the hidden state\n",
    "        self.h = tf.math.tanh(self.W_hh * self.h + self.W_xh * x)\n",
    "        \n",
    "        #Compute the output\n",
    "        output = self.W_hy * self.h\n",
    "        \n",
    "        #Return the current output and hidden state\n",
    "        return output, self.h"
   ]
  },
  {
   "cell_type": "code",
   "execution_count": null,
   "id": "ee584ce8",
   "metadata": {},
   "outputs": [],
   "source": [
    "# RNN implementation in tensorflow\n",
    "tf.keras.layers.SimpleRNN(rnn_units)"
   ]
  },
  {
   "cell_type": "code",
   "execution_count": null,
   "id": "dfcae955",
   "metadata": {},
   "outputs": [],
   "source": [
    "# LSTM\n",
    "tf.keras.layers.LSTM(units)"
   ]
  }
 ],
 "metadata": {
  "kernelspec": {
   "display_name": "Python 3 (ipykernel)",
   "language": "python",
   "name": "python3"
  },
  "language_info": {
   "codemirror_mode": {
    "name": "ipython",
    "version": 3
   },
   "file_extension": ".py",
   "mimetype": "text/x-python",
   "name": "python",
   "nbconvert_exporter": "python",
   "pygments_lexer": "ipython3",
   "version": "3.8.13"
  }
 },
 "nbformat": 4,
 "nbformat_minor": 5
}
